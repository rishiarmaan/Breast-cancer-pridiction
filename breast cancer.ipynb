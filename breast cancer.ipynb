{
 "cells": [
  {
   "cell_type": "code",
   "execution_count": null,
   "id": "8e687dfb",
   "metadata": {},
   "outputs": [],
   "source": [
    "import numpy as np\n",
    "import pandas as pd"
   ]
  },
  {
   "cell_type": "code",
   "execution_count": null,
   "id": "af7ce23d",
   "metadata": {},
   "outputs": [],
   "source": [
    "pip install pandas\n"
   ]
  },
  {
   "cell_type": "code",
   "execution_count": null,
   "id": "64e568d3",
   "metadata": {},
   "outputs": [],
   "source": [
    "breast = pd.read_csv(\"data.csv\")\n",
    "breast.head()"
   ]
  },
  {
   "cell_type": "code",
   "execution_count": null,
   "id": "26c03d61",
   "metadata": {},
   "outputs": [],
   "source": [
    "import numpy as np\n",
    "import pandas as pd"
   ]
  },
  {
   "cell_type": "code",
   "execution_count": null,
   "id": "259b1d8e",
   "metadata": {},
   "outputs": [],
   "source": [
    "breast = pd.read_csv(\"data.csv\")\n",
    "breast.head()\n"
   ]
  },
  {
   "cell_type": "code",
   "execution_count": null,
   "id": "be59f440",
   "metadata": {},
   "outputs": [],
   "source": [
    "breast['diagnosis'].value_counts()"
   ]
  },
  {
   "cell_type": "code",
   "execution_count": null,
   "id": "ad70e0b9",
   "metadata": {},
   "outputs": [],
   "source": [
    "breast.shape\n"
   ]
  },
  {
   "cell_type": "code",
   "execution_count": null,
   "id": "dd8fe842",
   "metadata": {},
   "outputs": [],
   "source": [
    "breast.isnull().sum()\n"
   ]
  },
  {
   "cell_type": "code",
   "execution_count": null,
   "id": "f996cdeb",
   "metadata": {},
   "outputs": [],
   "source": [
    "breast.duplicated().sum()"
   ]
  },
  {
   "cell_type": "code",
   "execution_count": null,
   "id": "e7442c13",
   "metadata": {},
   "outputs": [],
   "source": [
    "breast['diagnosis'] = breast['diagnosis'].map({\"M\":1,\"B\":0})"
   ]
  },
  {
   "cell_type": "code",
   "execution_count": null,
   "id": "4f69690c",
   "metadata": {},
   "outputs": [],
   "source": [
    "breast['diagnosis'].value_counts()"
   ]
  },
  {
   "cell_type": "code",
   "execution_count": null,
   "id": "4e41701f",
   "metadata": {},
   "outputs": [],
   "source": [
    "x = breast.drop('diagnosis',axis=1)\n",
    "y = breast['diagnosis']"
   ]
  },
  {
   "cell_type": "code",
   "execution_count": null,
   "id": "eac187cf",
   "metadata": {},
   "outputs": [],
   "source": [
    "x.shape"
   ]
  },
  {
   "cell_type": "code",
   "execution_count": null,
   "id": "7bf13ff9",
   "metadata": {},
   "outputs": [],
   "source": [
    "from sklearn.model_selection import train_test_split"
   ]
  },
  {
   "cell_type": "code",
   "execution_count": null,
   "id": "cfa0c8ef",
   "metadata": {},
   "outputs": [],
   "source": [
    "train_test_split"
   ]
  },
  {
   "cell_type": "code",
   "execution_count": null,
   "id": "aacf04ba",
   "metadata": {},
   "outputs": [],
   "source": [
    "x_train, x_test, y_train, y_test = train_test_split(\n",
    "x,y,test_size=0.2,random_state=42)"
   ]
  },
  {
   "cell_type": "code",
   "execution_count": null,
   "id": "c0c2f5f3",
   "metadata": {},
   "outputs": [],
   "source": [
    "x_train.shape"
   ]
  },
  {
   "cell_type": "code",
   "execution_count": null,
   "id": "4d2f856e",
   "metadata": {},
   "outputs": [],
   "source": [
    "x_test.shape"
   ]
  },
  {
   "cell_type": "code",
   "execution_count": null,
   "id": "7237964b",
   "metadata": {},
   "outputs": [],
   "source": [
    "from sklearn.preprocessing import StandardScaler\n",
    "sc = StandardScaler()"
   ]
  },
  {
   "cell_type": "code",
   "execution_count": null,
   "id": "c630433d",
   "metadata": {},
   "outputs": [],
   "source": [
    "sc.fit(x_train)"
   ]
  },
  {
   "cell_type": "code",
   "execution_count": null,
   "id": "0021ad5f",
   "metadata": {},
   "outputs": [],
   "source": [
    "x_train = sc.transform(x_train)\n",
    "x_test = sc.transform(x_test)"
   ]
  },
  {
   "cell_type": "code",
   "execution_count": null,
   "id": "4e79b245",
   "metadata": {},
   "outputs": [],
   "source": [
    "x_train"
   ]
  },
  {
   "cell_type": "code",
   "execution_count": null,
   "id": "edfbe21e",
   "metadata": {},
   "outputs": [],
   "source": [
    "from sklearn.linear_model import LogisticRegression \n",
    "lg = LogisticRegression()"
   ]
  },
  {
   "cell_type": "code",
   "execution_count": null,
   "id": "9043e525",
   "metadata": {},
   "outputs": [],
   "source": [
    "lg.fit(x_train,y_train)\n",
    "y_pred = lg.predict(x_test)"
   ]
  },
  {
   "cell_type": "code",
   "execution_count": null,
   "id": "284c2035",
   "metadata": {},
   "outputs": [],
   "source": [
    "y_pred"
   ]
  },
  {
   "cell_type": "code",
   "execution_count": null,
   "id": "1cd9222f",
   "metadata": {},
   "outputs": [],
   "source": [
    "from sklearn.metrics import accuracy_score"
   ]
  },
  {
   "cell_type": "code",
   "execution_count": null,
   "id": "e95c9ff2",
   "metadata": {},
   "outputs": [],
   "source": [
    "accuracy_score(y_test,y_pred)"
   ]
  },
  {
   "cell_type": "markdown",
   "id": "6d177349",
   "metadata": {},
   "source": [
    "### Prediction System "
   ]
  },
  {
   "cell_type": "code",
   "execution_count": null,
   "id": "5d6d8dc0",
   "metadata": {},
   "outputs": [],
   "source": [
    "input_text = (6.63966343,  1.9769275 ,  0.31327591,  1.90233452,  2.05786602,\n",
    "        0.0788037 ,  0.26483378,  0.86043609,  1.76809679, -0.93595811,\n",
    "       -0.85350634,  0.92729216,  0.29254864,  0.81382428,  0.88628269,\n",
    "       -0.49847317, -0.26285216, -0.03032279,  0.4399518 , -1.25977636,\n",
    "       -0.5802499 ,  1.96523962,  1.07854631,  1.83265153,  2.01924985,\n",
    "        0.22847029,  0.37042607,  0.79030033,  1.74421993, -1.00983488,\n",
    "       -0.53947146)\n",
    "np_df = np.asarray(input_text)\n",
    "prediction = lg.predict(np_df.reshape(1,-1))\n",
    "if prediction[0]==1:\n",
    "    print(\"cancrous\")\n",
    "else:\n",
    "    print(\"not cancrous\")"
   ]
  },
  {
   "cell_type": "code",
   "execution_count": null,
   "id": "2b9461d0",
   "metadata": {},
   "outputs": [],
   "source": [
    "x_train[11]"
   ]
  },
  {
   "cell_type": "code",
   "execution_count": null,
   "id": "edbcb59e",
   "metadata": {},
   "outputs": [],
   "source": [
    "import pickle\n",
    "pickle.dump(lg,open('model.pkl','wb'))"
   ]
  },
  {
   "cell_type": "code",
   "execution_count": 9,
   "id": "872af731",
   "metadata": {},
   "outputs": [],
   "source": [
    "import numpy as np\n",
    "import pandas as pd"
   ]
  },
  {
   "cell_type": "code",
   "execution_count": 12,
   "id": "82e20f29",
   "metadata": {},
   "outputs": [
    {
     "name": "stdout",
     "output_type": "stream",
     "text": [
      "Model and feature selector have been saved!\n"
     ]
    }
   ],
   "source": [
    "import pandas as pd\n",
    "from sklearn.datasets import load_breast_cancer\n",
    "from sklearn.linear_model import LogisticRegression\n",
    "from sklearn.pipeline import Pipeline\n",
    "from sklearn.preprocessing import StandardScaler\n",
    "from sklearn.feature_selection import SelectKBest, f_classif\n",
    "import pickle\n",
    "\n",
    "# Load dataset\n",
    "data = load_breast_cancer()\n",
    "X = pd.DataFrame(data.data, columns=data.feature_names)\n",
    "y = data.target\n",
    "\n",
    "# List of selected features\n",
    "selected_features = [\n",
    "    'mean perimeter',\n",
    "    'mean concave points',\n",
    "    'worst radius',\n",
    "    'worst perimeter',\n",
    "    'worst area',\n",
    "    'worst concave points'\n",
    "]\n",
    "\n",
    "# Subset the data to only include selected features\n",
    "X_selected = X[selected_features]\n",
    "\n",
    "# Create the feature selection and classification pipeline\n",
    "pipeline = Pipeline([\n",
    "    ('scaler', StandardScaler()),  # Standardize features\n",
    "    ('selectkbest', SelectKBest(score_func=f_classif, k='all')),  # Apply feature selection\n",
    "    ('classifier', LogisticRegression(max_iter=1000))  # Classifier\n",
    "])\n",
    "\n",
    "# Fit the pipeline with selected features\n",
    "pipeline.fit(X_selected, y)\n",
    "\n",
    "# Save the full pipeline (including scaling, feature selection, and classifier)\n",
    "with open(\"model.pkl\", \"wb\") as f:\n",
    "    pickle.dump(pipeline, f)\n",
    "\n",
    "# Save the feature names for reference (optional)\n",
    "with open(\"feature_selector.pkl\", \"wb\") as f:\n",
    "    pickle.dump(selected_features, f)\n",
    "\n",
    "print(\"Model and feature selector have been saved!\")\n"
   ]
  },
  {
   "cell_type": "code",
   "execution_count": null,
   "id": "1e2e0291",
   "metadata": {},
   "outputs": [],
   "source": []
  }
 ],
 "metadata": {
  "kernelspec": {
   "display_name": "Python 3 (ipykernel)",
   "language": "python",
   "name": "python3"
  },
  "language_info": {
   "codemirror_mode": {
    "name": "ipython",
    "version": 3
   },
   "file_extension": ".py",
   "mimetype": "text/x-python",
   "name": "python",
   "nbconvert_exporter": "python",
   "pygments_lexer": "ipython3",
   "version": "3.11.5"
  }
 },
 "nbformat": 4,
 "nbformat_minor": 5
}
